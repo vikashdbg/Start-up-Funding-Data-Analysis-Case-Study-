{
 "cells": [
  {
   "cell_type": "code",
   "execution_count": 28,
   "metadata": {},
   "outputs": [],
   "source": [
    "import pandas as pd\n",
    "import matplotlib.pyplot as plt"
   ]
  },
  {
   "cell_type": "code",
   "execution_count": 29,
   "metadata": {},
   "outputs": [],
   "source": [
    "path = 'C:\\\\Users\\\\vikas\\\\OneDrive\\\\Desktop\\\\Startup Funding Case Study\\\\startup_funding.csv'"
   ]
  },
  {
   "cell_type": "code",
   "execution_count": 30,
   "metadata": {},
   "outputs": [],
   "source": [
    "df = pd.read_csv(path)"
   ]
  },
  {
   "cell_type": "markdown",
   "metadata": {},
   "source": [
    "### Question"
   ]
  },
  {
   "cell_type": "markdown",
   "metadata": {},
   "source": [
    "Your Friend has developed the Product and he wants to establish the product startup and he is searching for a perfect location where getting the investment has a high chance. But due to its financial restriction, he can choose only between three locations -  Bangalore, Mumbai, and NCR. As a friend, you want to help your friend deciding the location. NCR include Gurgaon, Noida and New Delhi. Find the location where the most number of funding is done. That means, find the location where startups has received funding maximum number of times. Plot the bar graph between location and number of funding. Take city name \"Delhi\" as \"New Delhi\". Check the case-sensitiveness of cities also. That means, at some place instead of \"Bangalore\", \"bangalore\" is given. Take city name as \"Bangalore\". For few startups multiple locations are given, one Indian and one Foreign. Consider the startup if any one of the city lies in given locations."
   ]
  },
  {
   "cell_type": "code",
   "execution_count": 31,
   "metadata": {},
   "outputs": [],
   "source": [
    "test1 = df.copy()"
   ]
  },
  {
   "cell_type": "code",
   "execution_count": 32,
   "metadata": {},
   "outputs": [],
   "source": [
    "#filtering na\n",
    "test1.dropna(inplace = True, subset = ['CityLocation'])\n",
    "test1.reset_index(drop = True, inplace = True)"
   ]
  },
  {
   "cell_type": "code",
   "execution_count": 33,
   "metadata": {},
   "outputs": [],
   "source": [
    "#function to split indian cities from string\n",
    "def ind_city(city):\n",
    "    return city.split('/')[0].strip()"
   ]
  },
  {
   "cell_type": "code",
   "execution_count": 34,
   "metadata": {},
   "outputs": [],
   "source": [
    "#replacing the wrong written city\n",
    "test1['CityLocation'].replace(\"bangalore\", \"Bangalore\", inplace = True)\n",
    "test1['CityLocation'].replace(\"Delhi\", \"New Delhi\", inplace = True)\n",
    "test1['CityLocation'].replace(\"SFO / Bangalor\", \"Bangalore\", inplace = True)\n",
    "test1['CityLocation'].replace(\"Seattle / Bangalore\", \"Bangalore\", inplace = True)"
   ]
  },
  {
   "cell_type": "code",
   "execution_count": 35,
   "metadata": {},
   "outputs": [],
   "source": [
    "#filtering city\n",
    "test1['CityLocation'] = test1['CityLocation'].apply(ind_city)"
   ]
  },
  {
   "cell_type": "code",
   "execution_count": 36,
   "metadata": {},
   "outputs": [],
   "source": [
    "#filtering the cities on the basis of given conditions\n",
    "test1 = test1[(test1['CityLocation'] == \"Bangalore\") | (test1['CityLocation'] == \"Mumbai\") | (test1['CityLocation'] == \"Gurgaon\") | (test1['CityLocation'] == \"Noida\") | (test1['CityLocation'] == \"New Delhi\")]"
   ]
  },
  {
   "cell_type": "code",
   "execution_count": 37,
   "metadata": {},
   "outputs": [],
   "source": [
    "#extracting the cities and their counts\n",
    "temp = test1['CityLocation'].value_counts()\n",
    "city = temp.index\n",
    "No_Of_Funding = temp.values"
   ]
  },
  {
   "cell_type": "code",
   "execution_count": 38,
   "metadata": {},
   "outputs": [
    {
     "name": "stdout",
     "output_type": "stream",
     "text": [
      "City where most number of funding is done among Bangalore, Mumbai and NCR is ' Bangalore '.\n"
     ]
    }
   ],
   "source": [
    "#printing the city where most number of funding is Done\n",
    "print(\"City where most number of funding is done among Bangalore, Mumbai and NCR is '\",city[0],\"'.\")"
   ]
  },
  {
   "cell_type": "code",
   "execution_count": 39,
   "metadata": {
    "scrolled": false
   },
   "outputs": [
    {
     "data": {
      "image/png": "[encoded data removed]",
      "text/plain": [
       "<Figure size 432x288 with 1 Axes>"
      ]
     },
     "metadata": {
      "needs_background": "light"
     },
     "output_type": "display_data"
    },
    {
     "data": {
      "text/html": [
       "<div>\n",
       "<style scoped>\n",
       "    .dataframe tbody tr th:only-of-type {\n",
       "        vertical-align: middle;\n",
       "    }\n",
       "\n",
       "    .dataframe tbody tr th {\n",
       "        vertical-align: top;\n",
       "    }\n",
       "\n",
       "    .dataframe thead th {\n",
       "        text-align: right;\n",
       "    }\n",
       "</style>\n",
       "<table border=\"1\" class=\"dataframe\">\n",
       "  <thead>\n",
       "    <tr style=\"text-align: right;\">\n",
       "      <th></th>\n",
       "      <th>Name Of City</th>\n",
       "      <th>Number Of Fundings</th>\n",
       "    </tr>\n",
       "  </thead>\n",
       "  <tbody>\n",
       "    <tr>\n",
       "      <th>0</th>\n",
       "      <td>Bangalore</td>\n",
       "      <td>636</td>\n",
       "    </tr>\n",
       "    <tr>\n",
       "      <th>1</th>\n",
       "      <td>Mumbai</td>\n",
       "      <td>449</td>\n",
       "    </tr>\n",
       "    <tr>\n",
       "      <th>2</th>\n",
       "      <td>New Delhi</td>\n",
       "      <td>389</td>\n",
       "    </tr>\n",
       "    <tr>\n",
       "      <th>3</th>\n",
       "      <td>Gurgaon</td>\n",
       "      <td>241</td>\n",
       "    </tr>\n",
       "    <tr>\n",
       "      <th>4</th>\n",
       "      <td>Noida</td>\n",
       "      <td>79</td>\n",
       "    </tr>\n",
       "  </tbody>\n",
       "</table>\n",
       "</div>"
      ],
      "text/plain": [
       "  Name Of City  Number Of Fundings\n",
       "0    Bangalore                 636\n",
       "1       Mumbai                 449\n",
       "2    New Delhi                 389\n",
       "3      Gurgaon                 241\n",
       "4        Noida                  79"
      ]
     },
     "execution_count": 39,
     "metadata": {},
     "output_type": "execute_result"
    }
   ],
   "source": [
    "#bar Graph\n",
    "plt.bar(city, No_Of_Funding, color = ['Red'], width = 0.8)\n",
    "plt.xlabel(\"City\")\n",
    "plt.xticks(rotation = 40)\n",
    "plt.ylabel(\"Number Of Fundings\")\n",
    "plt.title(\"City vs Number Of Fundings\")\n",
    "plt.show()\n",
    "li = list(zip(city, No_Of_Funding))\n",
    "\n",
    "#build pandas dataframe for the city and corresponding investments\n",
    "freq = pd.DataFrame(li, columns = [\"Name Of City\", \"Number Of Fundings\"])\n",
    "freq"
   ]
  }
 ],
 "metadata": {
  "kernelspec": {
   "display_name": "Python 3",
   "language": "python",
   "name": "python3"
  },
  "language_info": {
   "codemirror_mode": {
    "name": "ipython",
    "version": 3
   },
   "file_extension": ".py",
   "mimetype": "text/x-python",
   "name": "python",
   "nbconvert_exporter": "python",
   "pygments_lexer": "ipython3",
   "version": "3.8.5"
  }
 },
 "nbformat": 4,
 "nbformat_minor": 2
}
