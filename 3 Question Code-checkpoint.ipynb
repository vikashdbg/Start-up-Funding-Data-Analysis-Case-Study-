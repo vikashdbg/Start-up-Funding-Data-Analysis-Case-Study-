{
 "cells": [
  {
   "cell_type": "code",
   "execution_count": 15,
   "metadata": {},
   "outputs": [],
   "source": [
    "import pandas as pd\n",
    "import matplotlib.pyplot as plt"
   ]
  },
  {
   "cell_type": "code",
   "execution_count": 16,
   "metadata": {},
   "outputs": [],
   "source": [
    "path = 'C:\\\\Users\\\\vikas\\\\OneDrive\\\\Desktop\\\\Startup Funding Case Study\\\\startup_funding.csv'"
   ]
  },
  {
   "cell_type": "code",
   "execution_count": 17,
   "metadata": {},
   "outputs": [],
   "source": [
    "df = pd.read_csv(path)"
   ]
  },
  {
   "cell_type": "markdown",
   "metadata": {},
   "source": [
    "### Question"
   ]
  },
  {
   "cell_type": "markdown",
   "metadata": {},
   "source": [
    "After re-analysing the dataset you found out that some investors have invested in the same startup at different number of funding rounds. So before finalising the previous list, you want to improvise it by finding the top 5 investors who have invested in different number of startups. This list will be more helpful than your previous list in finding the investment for your friend startup. Find the top 5 investors who have invested maximum number of times in different companies. That means, if one investor has invested multiple times in one startup, count one for that company. There are many errors in startup names. Ignore correcting all, just handle the important ones - Ola, Flipkart, Oyo and Paytm."
   ]
  },
  {
   "cell_type": "code",
   "execution_count": 18,
   "metadata": {},
   "outputs": [],
   "source": [
    "test3 = df.copy()"
   ]
  },
  {
   "cell_type": "code",
   "execution_count": 19,
   "metadata": {},
   "outputs": [],
   "source": [
    "#correcting the spelling in investors name ignoring undisclosed investors\n",
    "test3['InvestorsName'].replace(\"Undisclosed investors\", \"Undisclosed Investors\", inplace = True)\n",
    "test3['InvestorsName'].replace(\"Undisclosed Investors\",\"\",inplace = True)"
   ]
  },
  {
   "cell_type": "code",
   "execution_count": 20,
   "metadata": {},
   "outputs": [],
   "source": [
    "#correcting major startup names\n",
    "test3['StartupName'].replace(\"Ola Cabs\", \"Ola\", inplace = True)\n",
    "test3['StartupName'].replace(\"OyoRooms\", \"Oyo\", inplace = True)\n",
    "test3['StartupName'].replace(\"Oyorooms\", \"Oyo\", inplace = True)\n",
    "test3['StartupName'].replace(\"OYO Rooms\", \"Oyo\", inplace = True)\n",
    "test3['StartupName'].replace(\"Olacabs\", \"Ola\", inplace = True)\n",
    "test3['StartupName'].replace(\"Flipkart.com\", \"Flipkart\", inplace = True)\n",
    "test3['StartupName'].replace(\"Oyo Rooms\", \"Oyo\", inplace = True)\n",
    "test3['StartupName'].replace(\"Paytm Marketplace\", \"Paytm\", inplace = True)"
   ]
  },
  {
   "cell_type": "code",
   "execution_count": 21,
   "metadata": {},
   "outputs": [],
   "source": [
    "#filtering the na\n",
    "test3.dropna(inplace = True, subset = [\"InvestorsName\", \"StartupName\"])\n",
    "test3.reset_index(drop = True, inplace = True)"
   ]
  },
  {
   "cell_type": "code",
   "execution_count": 22,
   "metadata": {},
   "outputs": [],
   "source": [
    "#function to create dictionary of investor name making investment to different startups\n",
    "def Create(startup_name, Investor_name):\n",
    "    cnt = {}\n",
    "    #cnt holds investors name as key and the number of investments as value\n",
    "    name_startup = {}\n",
    "    #name_startup holds the investors name as key and list of different companies in which it invests as value\n",
    "    n = len(Investor_name)\n",
    "    for idx in range(n):\n",
    "        i = Investor_name[idx].strip()\n",
    "        name = startup_name[idx].strip()\n",
    "        if ',' not in i and i != \"\":\n",
    "            if name_startup.get(i) is None: #no startup is still funded by this investor\n",
    "                cnt[i] = 1\n",
    "                li = []\n",
    "                li.append(name)\n",
    "                name_startup[i] = li   \n",
    "            else:\n",
    "                li = name_startup[i]\n",
    "                if name not in li:             #checking the given startup has been invested before or not\n",
    "                    cnt[i] = cnt.get(i, 0) + 1\n",
    "                    li.append(name)\n",
    "                    name_startup[i]\n",
    "            \n",
    "        else:\n",
    "            #splitting the Investors name list\n",
    "            string = i.strip().split(',')\n",
    "            for j in string:\n",
    "                k = j.strip()\n",
    "                if k != \"\":\n",
    "                    if name_startup.get(k) is None:  #no startup is still funded by this investor\n",
    "                        cnt[k] = 1\n",
    "                        li = []\n",
    "                        li.append(name)\n",
    "                        name_startup[k] = li\n",
    "                    else:\n",
    "                        li = name_startup[k]\n",
    "                        if name not in li:         #checking the given startup has been invested before or not\n",
    "                            cnt[k] = cnt.get(k, 0) + 1\n",
    "                            li.append(name)\n",
    "                            name_startup[k] = li \n",
    "                \n",
    "    return cnt"
   ]
  },
  {
   "cell_type": "code",
   "execution_count": 23,
   "metadata": {},
   "outputs": [],
   "source": [
    "#making dictionary\n",
    "dictionary = Create(test3['StartupName'], test3['InvestorsName'])"
   ]
  },
  {
   "cell_type": "code",
   "execution_count": 24,
   "metadata": {},
   "outputs": [],
   "source": [
    "#build pandas dataframe\n",
    "diff_invest = pd.DataFrame(list(dictionary.values()), list(dictionary.keys()))"
   ]
  },
  {
   "cell_type": "code",
   "execution_count": 25,
   "metadata": {},
   "outputs": [],
   "source": [
    "#sort in descending order on the basis of values\n",
    "diff_invest = diff_invest.sort_values(by = [0], ascending = False)"
   ]
  },
  {
   "cell_type": "code",
   "execution_count": 26,
   "metadata": {},
   "outputs": [],
   "source": [
    "x = []\n",
    "y = []\n",
    "\n",
    "#we have to just find top 5 investors who invest maximum number of times in different startups\n",
    "for i in range(5):\n",
    "    x.append(diff_invest.index[i])\n",
    "    y.append(diff_invest.values[i][0])"
   ]
  },
  {
   "cell_type": "code",
   "execution_count": 27,
   "metadata": {},
   "outputs": [
    {
     "name": "stdout",
     "output_type": "stream",
     "text": [
      "List Of Top 5 Investors who Invested most number of times :\n",
      "1. Sequoia Capital\n",
      "2. Accel Partners\n",
      "3. Kalaari Capital\n",
      "4. Indian Angel Network\n",
      "5. Blume Ventures\n"
     ]
    }
   ],
   "source": [
    "#printing the top investors who invested who invested most number of times in different startups\n",
    "print(\"List Of Top 5 Investors who Invested most number of times :\")\n",
    "i = 0\n",
    "for ele in x:\n",
    "    print(i+1,end = \"\")\n",
    "    print(\".\", end = \" \")\n",
    "    print(ele)\n",
    "    i += 1"
   ]
  },
  {
   "cell_type": "code",
   "execution_count": 28,
   "metadata": {},
   "outputs": [
    {
     "data": {
      "image/png": "[encoded data removed]",
      "text/plain": [
       "<Figure size 432x288 with 1 Axes>"
      ]
     },
     "metadata": {},
     "output_type": "display_data"
    },
    {
     "data": {
      "text/html": [
       "<div>\n",
       "<style scoped>\n",
       "    .dataframe tbody tr th:only-of-type {\n",
       "        vertical-align: middle;\n",
       "    }\n",
       "\n",
       "    .dataframe tbody tr th {\n",
       "        vertical-align: top;\n",
       "    }\n",
       "\n",
       "    .dataframe thead th {\n",
       "        text-align: right;\n",
       "    }\n",
       "</style>\n",
       "<table border=\"1\" class=\"dataframe\">\n",
       "  <thead>\n",
       "    <tr style=\"text-align: right;\">\n",
       "      <th></th>\n",
       "      <th>Name Of Investors</th>\n",
       "      <th>Total Number Of Investments</th>\n",
       "    </tr>\n",
       "  </thead>\n",
       "  <tbody>\n",
       "    <tr>\n",
       "      <th>0</th>\n",
       "      <td>Sequoia Capital</td>\n",
       "      <td>48</td>\n",
       "    </tr>\n",
       "    <tr>\n",
       "      <th>1</th>\n",
       "      <td>Accel Partners</td>\n",
       "      <td>47</td>\n",
       "    </tr>\n",
       "    <tr>\n",
       "      <th>2</th>\n",
       "      <td>Kalaari Capital</td>\n",
       "      <td>41</td>\n",
       "    </tr>\n",
       "    <tr>\n",
       "      <th>3</th>\n",
       "      <td>Indian Angel Network</td>\n",
       "      <td>40</td>\n",
       "    </tr>\n",
       "    <tr>\n",
       "      <th>4</th>\n",
       "      <td>Blume Ventures</td>\n",
       "      <td>36</td>\n",
       "    </tr>\n",
       "  </tbody>\n",
       "</table>\n",
       "</div>"
      ],
      "text/plain": [
       "      Name Of Investors  Total Number Of Investments\n",
       "0       Sequoia Capital                           48\n",
       "1        Accel Partners                           47\n",
       "2       Kalaari Capital                           41\n",
       "3  Indian Angel Network                           40\n",
       "4        Blume Ventures                           36"
      ]
     },
     "execution_count": 28,
     "metadata": {},
     "output_type": "execute_result"
    }
   ],
   "source": [
    "#plot\n",
    "plt.pie(y, labels = x,startangle=90, shadow = True, explode = (0.1, 0.1, 0.1, 0.1,0.1), autopct = \"%.1f%%\")\n",
    "plt.grid()\n",
    "plt.xticks(rotation=40)\n",
    "plt.title(\"Top 5 Investors and corresponding Number Of Investments In Different Startups\")\n",
    "plt.show()\n",
    "\n",
    "#pandas frame for Investors name and corresponding Number of Investments made by them in different startups\n",
    "li = list(zip(x,y))\n",
    "investor_data = pd.DataFrame(li, columns = [\"Name Of Investors\", \"Total Number Of Investments\"])\n",
    "investor_data"
   ]
  }
 ],
 "metadata": {
  "kernelspec": {
   "display_name": "Python 3",
   "language": "python",
   "name": "python3"
  },
  "language_info": {
   "codemirror_mode": {
    "name": "ipython",
    "version": 3
   },
   "file_extension": ".py",
   "mimetype": "text/x-python",
   "name": "python",
   "nbconvert_exporter": "python",
   "pygments_lexer": "ipython3",
   "version": "3.8.5"
  }
 },
 "nbformat": 4,
 "nbformat_minor": 2
}
